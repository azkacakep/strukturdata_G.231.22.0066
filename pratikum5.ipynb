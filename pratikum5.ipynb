{
  "nbformat": 4,
  "nbformat_minor": 0,
  "metadata": {
    "colab": {
      "provenance": [],
      "authorship_tag": "ABX9TyOlaoPKIxNdJGSk3b8fhRpI",
      "include_colab_link": true
    },
    "kernelspec": {
      "name": "python3",
      "display_name": "Python 3"
    },
    "language_info": {
      "name": "python"
    }
  },
  "cells": [
    {
      "cell_type": "markdown",
      "metadata": {
        "id": "view-in-github",
        "colab_type": "text"
      },
      "source": [
        "<a href=\"https://colab.research.google.com/github/azkacakep/strukturdata_G.231.22.0066/blob/main/pratikum5.ipynb\" target=\"_parent\"><img src=\"https://colab.research.google.com/assets/colab-badge.svg\" alt=\"Open In Colab\"/></a>"
      ]
    },
    {
      "cell_type": "code",
      "execution_count": null,
      "metadata": {
        "colab": {
          "base_uri": "https://localhost:8080/"
        },
        "id": "CjgOY3Go_x26",
        "outputId": "2fa3c5b5-550f-4d82-f3a8-339deff82a53"
      },
      "outputs": [
        {
          "output_type": "stream",
          "name": "stdout",
          "text": [
            "List sorted with bubble sort in ascending order:  [4, 5, 6, 7, 8, 9, 10]\n"
          ]
        }
      ],
      "source": [
        "def bubble_sort(arr):\n",
        "    arr_len = len(arr)\n",
        "    for i in range(arr_len-1):\n",
        "        flag = 0\n",
        "        for j in range(0, arr_len-i-1):\n",
        "              if arr[j] > arr[j + 1]:\n",
        "                 arr[j], arr[j + 1] = arr[j + 1], arr[j]\n",
        "                 flag = 1\n",
        "                 if flag == 0:\n",
        "                     break\n",
        "\n",
        "    return arr\n",
        "\n",
        "arr = [10, 9, 8, 7, 6, 5, 4]\n",
        "print(\"List sorted with bubble sort in ascending order: \", bubble_sort(arr))"
      ]
    },
    {
      "cell_type": "code",
      "source": [
        "def selectionSort(array, size):\n",
        "\n",
        "    for o in range(size):\n",
        "        min_idx = o\n",
        "\n",
        "        for i in range(o + 1, size):\n",
        "            if array[i] < array[min_idx]:\n",
        "                min_idx = i\n",
        "\n",
        "        (array[o], array[min_idx]) = (array[min_idx], array[o])\n",
        "\n",
        "\n",
        "data = [10, 75, 100, 50, 90, 1]\n",
        "size = len(data)\n",
        "selectionSort(data, size)\n",
        "print('Sorted Array in Ascending Order:')\n",
        "print(data)"
      ],
      "metadata": {
        "colab": {
          "base_uri": "https://localhost:8080/"
        },
        "id": "QMBujLwLWkSq",
        "outputId": "8b72c7a4-a3ea-46ed-82ad-e58a7dd7118b"
      },
      "execution_count": null,
      "outputs": [
        {
          "output_type": "stream",
          "name": "stdout",
          "text": [
            "Sorted Array in Ascending Order:\n",
            "[1, 10, 50, 75, 90, 100]\n"
          ]
        }
      ]
    },
    {
      "cell_type": "code",
      "source": [
        "def insertionSort(arr):\n",
        "\n",
        "        for i in range(1, len(arr)):\n",
        "          key = arr[i]\n",
        "          j = i-1\n",
        "        while j >= 0 and key < arr[j] :\n",
        "           arr[j + 1] = arr[j]\n",
        "           j -= 1\n",
        "        arr[j + 1] = key\n",
        "\n",
        "# Driver code to test above\n",
        "arr = [12, 11, 13, 5, 6]\n",
        "insertionSort(arr)\n",
        "for i in range(len(arr)):\n",
        "    print (\"% d\" % arr[i])"
      ],
      "metadata": {
        "colab": {
          "base_uri": "https://localhost:8080/"
        },
        "id": "qjXTYVCMYVb8",
        "outputId": "c269af48-fd36-41b1-a699-4a79878f3285"
      },
      "execution_count": null,
      "outputs": [
        {
          "output_type": "stream",
          "name": "stdout",
          "text": [
            " 12\n",
            " 11\n",
            " 13\n",
            " 5\n",
            " 6\n"
          ]
        }
      ]
    },
    {
      "cell_type": "code",
      "source": [
        "# insertion sort python program\n",
        "\n",
        "def insertion_sort(array):\n",
        "    for i in range(1, len(array)):\n",
        "        key = arr[i]\n",
        "        j = i\n",
        "        while j > 0 and array[j-1] > array[j]:\n",
        "            array[j], array[j-1] = array[j-1], array[j]\n",
        "            j = j - 1\n",
        "        arr[j + 1] = key\n",
        "\n",
        "    return array\n",
        "\n",
        "array = [40, 30, 50, 10, 20]\n",
        "print(\"Array before the Insertion Sort :\", array)\n",
        "\n",
        "sorted_array = insertion_sort(array)\n",
        "\n",
        "print(\"Array after the Insertion Sort :\", sorted_array)"
      ],
      "metadata": {
        "colab": {
          "base_uri": "https://localhost:8080/"
        },
        "id": "hRc1jXT2f0dY",
        "outputId": "ca9da203-2978-4170-9795-e5d5f6710cf1"
      },
      "execution_count": null,
      "outputs": [
        {
          "output_type": "stream",
          "name": "stdout",
          "text": [
            "Array before the Insertion Sort : [40, 30, 50, 10, 20]\n",
            "Array after the Insertion Sort : [10, 20, 30, 40, 50]\n"
          ]
        }
      ]
    }
  ]
}