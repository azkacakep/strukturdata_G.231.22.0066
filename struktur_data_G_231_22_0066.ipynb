{
  "nbformat": 4,
  "nbformat_minor": 0,
  "metadata": {
    "colab": {
      "provenance": [],
      "authorship_tag": "ABX9TyNu7sdwMdnpmwKijcW9k1BR",
      "include_colab_link": true
    },
    "kernelspec": {
      "name": "python3",
      "display_name": "Python 3"
    },
    "language_info": {
      "name": "python"
    }
  },
  "cells": [
    {
      "cell_type": "markdown",
      "metadata": {
        "id": "view-in-github",
        "colab_type": "text"
      },
      "source": [
        "<a href=\"https://colab.research.google.com/github/azkacakep/strukturdata_G.231.22.0066/blob/main/struktur_data_G_231_22_0066.ipynb\" target=\"_parent\"><img src=\"https://colab.research.google.com/assets/colab-badge.svg\" alt=\"Open In Colab\"/></a>"
      ]
    },
    {
      "cell_type": "code",
      "execution_count": 1,
      "metadata": {
        "id": "3tzwKs_ZYyUy"
      },
      "outputs": [],
      "source": [
        " def convert (s):\n",
        "\n",
        "  new = \"\"\n",
        "  for x in s:\n",
        "    new += x\n",
        "\n",
        "    return new\n",
        "\n",
        "  #driver code\n",
        "  s = ['g','e','e','k','s','f','o','r','g','e','e','k','s']\n",
        "  print(convert (s))\n",
        ""
      ]
    },
    {
      "cell_type": "code",
      "source": [
        "def Huruf (s) :\n",
        "    abjad = \"\"\n",
        "    for x in s :\n",
        "      abjad += x\n",
        "\n",
        "    return abjad\n",
        "\n",
        "# driver code\n",
        "s = ['p','r','o','g','r','a','m','m','i','n','g']\n",
        "print(Huruf (s))"
      ],
      "metadata": {
        "colab": {
          "base_uri": "https://localhost:8080/"
        },
        "id": "9ogyDaU1ZBU7",
        "outputId": "cfdef090-09a4-4752-954c-60acf75d8928"
      },
      "execution_count": 8,
      "outputs": [
        {
          "output_type": "stream",
          "name": "stdout",
          "text": [
            "programming\n"
          ]
        }
      ]
    }
  ]
}