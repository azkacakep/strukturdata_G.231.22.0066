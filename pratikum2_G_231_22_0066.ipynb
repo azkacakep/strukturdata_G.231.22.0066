{
  "nbformat": 4,
  "nbformat_minor": 0,
  "metadata": {
    "colab": {
      "provenance": [],
      "authorship_tag": "ABX9TyPqdMP8CGP/C+k3fkqO0nIB",
      "include_colab_link": true
    },
    "kernelspec": {
      "name": "python3",
      "display_name": "Python 3"
    },
    "language_info": {
      "name": "python"
    }
  },
  "cells": [
    {
      "cell_type": "markdown",
      "metadata": {
        "id": "view-in-github",
        "colab_type": "text"
      },
      "source": [
        "<a href=\"https://colab.research.google.com/github/azkacakep/strukturdata_G.231.22.0066/blob/main/pratikum2_G_231_22_0066.ipynb\" target=\"_parent\"><img src=\"https://colab.research.google.com/assets/colab-badge.svg\" alt=\"Open In Colab\"/></a>"
      ]
    },
    {
      "cell_type": "code",
      "execution_count": null,
      "metadata": {
        "colab": {
          "base_uri": "https://localhost:8080/"
        },
        "id": "izsuYo7saCiF",
        "outputId": "de3710f4-0973-4039-92cc-ea5808ca442e"
      },
      "outputs": [
        {
          "output_type": "stream",
          "name": "stdout",
          "text": [
            "[10, 10, 20, 30, 40, 50, 80]\n"
          ]
        }
      ],
      "source": [
        "def SelectionSort(angka):\n",
        "   for pos_tujuan in range(len(angka)-1,0,-1):\n",
        "    pos_max = 0\n",
        "    for x in range(1,pos_tujuan+1):\n",
        "      max_sementara = angka[pos_max]\n",
        "      if max_sementara <angka[x]:\n",
        "       pos_max = x\n",
        "    angka[pos_max],angka[pos_tujuan] = angka[pos_tujuan],angka[pos_max]\n",
        "\n",
        "angka = [50,10,40,20,80,10,30]\n",
        "SelectionSort(angka)\n",
        "print(angka)\n"
      ]
    },
    {
      "cell_type": "code",
      "source": [
        "list1 = [\"Apang\", 60, True, \"Male\"]\n",
        "print(list1)"
      ],
      "metadata": {
        "colab": {
          "base_uri": "https://localhost:8080/"
        },
        "id": "bRmdwgOCcOUW",
        "outputId": "d360c18f-3668-4b94-e568-0625e0fb4511"
      },
      "execution_count": null,
      "outputs": [
        {
          "output_type": "stream",
          "name": "stdout",
          "text": [
            "['Apang', 60, True, 'Male']\n"
          ]
        }
      ]
    },
    {
      "cell_type": "code",
      "source": [
        "data = (\"SQL\", \"Python\", \"Colab\")\n",
        "print(data)"
      ],
      "metadata": {
        "colab": {
          "base_uri": "https://localhost:8080/"
        },
        "id": "suREq1WTd1r-",
        "outputId": "832c66c1-575e-413c-b521-9abd6705c532"
      },
      "execution_count": null,
      "outputs": [
        {
          "output_type": "stream",
          "name": "stdout",
          "text": [
            "('SQL', 'Python', 'Colab')\n"
          ]
        }
      ]
    },
    {
      "cell_type": "code",
      "source": [
        "#contoh penggunaan dictionary\n",
        "\n",
        "print(\"\\ncontoh 1\")\n",
        "dic1={1:10, 2:20}\n",
        "dic2={3:30, 4:40}\n",
        "dic3={5:50,6:60}\n",
        "dic4 = {}\n",
        "for d in (dic1, dic2, dic3): dic4.update(d)\n",
        "print(dic4)"
      ],
      "metadata": {
        "colab": {
          "base_uri": "https://localhost:8080/"
        },
        "id": "TfOnP6nQgO_w",
        "outputId": "34ca42e5-c049-4305-d25e-10f3da01baa3"
      },
      "execution_count": null,
      "outputs": [
        {
          "output_type": "stream",
          "name": "stdout",
          "text": [
            "\n",
            "contoh 1\n",
            "{1: 10, 2: 20, 3: 30, 4: 40, 5: 50, 6: 60}\n"
          ]
        }
      ]
    },
    {
      "cell_type": "code",
      "source": [
        "dict={'Name': 'Zee', 'Age': '19', 'Idol': 'Jkt48'}\n",
        "print(\"dict=[Name]:\", dict[\"Name\"])\n",
        "print(\"dict=[Age]:\", dict[\"Age\"])\n",
        "print(\"dict=[Idol]:\", dict[\"Idol\"])"
      ],
      "metadata": {
        "colab": {
          "base_uri": "https://localhost:8080/"
        },
        "id": "LCLZICFzDDio",
        "outputId": "2c47d15b-23c3-4451-92e2-b9bfd56a38f2"
      },
      "execution_count": null,
      "outputs": [
        {
          "output_type": "stream",
          "name": "stdout",
          "text": [
            "dict=[Name]: Zee\n",
            "dict=[Age]: 19\n",
            "dict=[Idol]: Jkt48\n"
          ]
        }
      ]
    },
    {
      "cell_type": "code",
      "source": [
        "#Update dictionary python\n",
        "\n",
        "dict = {'Name': 'Zee', 'Age': 19, 'Idol': 'Jkt48'}\n",
        "dict['Age'] = 18; # Mengubah entri yang sudah ada\n",
        "dict['School'] = \"Theater\" # Menambah entri baru\n",
        "\n",
        "print(\"dict['Age']:\", dict['Age'])\n",
        "print(\"dict['School']:\", dict['School'])"
      ],
      "metadata": {
        "colab": {
          "base_uri": "https://localhost:8080/"
        },
        "id": "ryW4Qs3xEnNp",
        "outputId": "1c4c2ddc-f08a-4223-e023-b465f319b2d6"
      },
      "execution_count": null,
      "outputs": [
        {
          "output_type": "stream",
          "name": "stdout",
          "text": [
            "dict['Age']: 18\n",
            "dict['School']: Theater\n"
          ]
        }
      ]
    },
    {
      "cell_type": "code",
      "source": [
        "tup1 = ('zee','marsha','oniel', [\"gen7, gen9, gen8\"])\n",
        "tup2 = (7,9,8)\n",
        "tup3 = \"z\",\"m\",\"o\"\n",
        "\n",
        "print(tup1)\n",
        "print(tup2)\n",
        "print(tup3)"
      ],
      "metadata": {
        "colab": {
          "base_uri": "https://localhost:8080/"
        },
        "id": "dCxxRnj3FuRp",
        "outputId": "b13846ec-dc86-4c87-b841-5381fcac7fcc"
      },
      "execution_count": null,
      "outputs": [
        {
          "output_type": "stream",
          "name": "stdout",
          "text": [
            "('zee', 'marsha', 'oniel', ['gen7, gen9, gen8'])\n",
            "(7, 9, 8)\n",
            "('z', 'm', 'o')\n"
          ]
        }
      ]
    },
    {
      "cell_type": "code",
      "source": [
        "print(\"program saya\")\n",
        "tuplex = (\"azka\", \"ambon\", \"cakep\", \"cuyy\", \"ganteng\")\n",
        "print(tuplex)\n",
        "tuplex = tuplex + (\"farchani\",)\n",
        "print(tuplex)\n",
        "tuplex = tuplex[:1] + (\"iya\", \"wduhhh\", \"dudung\") + tuplex[:1]\n",
        "print(tuplex)\n",
        "listx = list(tuplex)\n",
        "listx.append(\"oke\")\n",
        "tuplex = tuple(listx)\n",
        "print(tuplex)"
      ],
      "metadata": {
        "colab": {
          "base_uri": "https://localhost:8080/"
        },
        "id": "SkJtkUNaHDhc",
        "outputId": "fa6f1d5d-fced-44ba-c0cb-78f7bde6120a"
      },
      "execution_count": null,
      "outputs": [
        {
          "output_type": "stream",
          "name": "stdout",
          "text": [
            "program saya\n",
            "('azka', 'ambon', 'cakep', 'cuyy', 'ganteng')\n",
            "('azka', 'ambon', 'cakep', 'cuyy', 'ganteng', 'farchani')\n",
            "('azka', 'iya', 'wduhhh', 'dudung', 'azka')\n",
            "('azka', 'iya', 'wduhhh', 'dudung', 'azka', 'oke')\n"
          ]
        }
      ]
    }
  ]
}